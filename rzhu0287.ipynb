{
 "cells": [
  {
   "cell_type": "code",
   "execution_count": 9,
   "metadata": {
    "id": "IF66Hts3uLlG"
   },
   "outputs": [],
   "source": [
    "import pandas as pd\n",
    "from sklearn.datasets import make_classification\n",
    "import numpy as np\n",
    "import matplotlib.pyplot as plt\n",
    "import seaborn as sns\n",
    "from sklearn.feature_selection import SelectKBest, f_classif\n",
    "import warnings\n",
    "warnings.filterwarnings('ignore')\n",
    "from sklearn.linear_model import LogisticRegression\n",
    "from sklearn.preprocessing import StandardScaler\n",
    "from sklearn.compose import ColumnTransformer\n",
    "from sklearn.preprocessing import OneHotEncoder\n",
    "from sklearn.pipeline import Pipeline"
   ]
  },
  {
   "cell_type": "markdown",
   "metadata": {
    "id": "Kridq6W3s8XH"
   },
   "source": [
    "Processing Data for Logistic Regression"
   ]
  },
  {
   "cell_type": "code",
   "execution_count": null,
   "metadata": {},
   "outputs": [],
   "source": [
    "data = pd.read_csv('booking_cleaned(1).csv')\n",
    "def cap_outliers(series):\n",
    "    Q1 = series.quantile(0.25)\n",
    "    Q3 = series.quantile(0.75)\n",
    "    IQR = Q3 - Q1\n",
    "    lower_bound = Q1 - 1.5 * IQR\n",
    "    upper_bound = Q3 + 1.5 * IQR\n",
    "    return series.clip(lower=lower_bound, upper=upper_bound)\n",
    "\n",
    "# Apply the capping function to the remaining variables\n",
    "data['number of week nights'] = cap_outliers(data['number of week nights'])\n",
    "data['lead time'] = cap_outliers(data['lead time'])\n",
    "data['average price'] = cap_outliers(data['average price'])\n",
    "data['number of children'] = cap_outliers(data['number of children'])\n",
    "\n",
    "df= data[data['market segment type'].isin(['Online', 'Offline'])]"
   ]
  },
  {
   "cell_type": "code",
   "execution_count": 11,
   "metadata": {
    "id": "NCHJ_wPUuLlJ"
   },
   "outputs": [],
   "source": [
    "\n",
    "encoder = OneHotEncoder()\n",
    "categorical_columns = ['type of meal', 'room type', 'booking status']\n",
    "numerical_columns = ['number of children', 'number of week nights', 'lead time', 'average price']\n",
    "\n",
    "#drop useless and target column\n",
    "drop_columns = ['Booking_ID', 'date of reservation','market segment type']\n",
    "df_cleaned = df.drop(columns=drop_columns)\n",
    "preprocessor = ColumnTransformer(\n",
    "    transformers=[\n",
    "        ('cat', OneHotEncoder(), categorical_columns)\n",
    "    ],\n",
    "    remainder='passthrough'\n",
    ")\n",
    "\n",
    "pipeline = Pipeline(steps=[\n",
    "    ('preprocessor', preprocessor),\n",
    "    ('scaler', StandardScaler())\n",
    "])\n",
    "\n",
    "\n",
    "X = pipeline.fit_transform(df_cleaned)\n"
   ]
  },
  {
   "cell_type": "code",
   "execution_count": 12,
   "metadata": {
    "id": "qXHVGFeS_rZy"
   },
   "outputs": [],
   "source": [
    "#Labelencoding to the target\n",
    "from sklearn.preprocessing import LabelEncoder\n",
    "y = df['market segment type']\n",
    "encoder = LabelEncoder()\n",
    "y = encoder.fit_transform(y)"
   ]
  },
  {
   "cell_type": "code",
   "execution_count": 13,
   "metadata": {
    "colab": {
     "base_uri": "https://localhost:8080/"
    },
    "id": "sEeSPaIp8PCb",
    "outputId": "658c96ff-2934-4dc9-8449-2c691dc7566e"
   },
   "outputs": [
    {
     "data": {
      "text/plain": [
       "dtype('float64')"
      ]
     },
     "execution_count": 13,
     "metadata": {},
     "output_type": "execute_result"
    }
   ],
   "source": [
    "X.dtype"
   ]
  },
  {
   "cell_type": "code",
   "execution_count": 14,
   "metadata": {
    "colab": {
     "base_uri": "https://localhost:8080/"
    },
    "id": "cq_sAKj9rgyf",
    "outputId": "264ad2b7-e759-41ac-e509-ba3faecec6aa"
   },
   "outputs": [
    {
     "data": {
      "text/plain": [
       "dtype('int32')"
      ]
     },
     "execution_count": 14,
     "metadata": {},
     "output_type": "execute_result"
    }
   ],
   "source": [
    "y.dtype"
   ]
  },
  {
   "cell_type": "markdown",
   "metadata": {
    "id": "MrqUwpqHsti7"
   },
   "source": [
    "Model Development"
   ]
  },
  {
   "cell_type": "code",
   "execution_count": 15,
   "metadata": {
    "colab": {
     "base_uri": "https://localhost:8080/"
    },
    "id": "2fH_PticrFaZ",
    "outputId": "f0feb603-85d3-49c2-fc8c-6568523a1b5d"
   },
   "outputs": [
    {
     "data": {
      "text/plain": [
       "((20251, 22), (6751, 22), (20251,), (6751,))"
      ]
     },
     "execution_count": 15,
     "metadata": {},
     "output_type": "execute_result"
    }
   ],
   "source": [
    "from sklearn.model_selection import train_test_split\n",
    "\n",
    "X_train, X_temp, y_train, y_temp = train_test_split(X, y, test_size=0.4, random_state=43)\n",
    "X_val, X_test, y_val, y_test = train_test_split(X_temp, y_temp, test_size=0.5, random_state=43)\n",
    "\n",
    "\n",
    "X_train.shape, X_test.shape, y_train.shape, y_test.shape"
   ]
  },
  {
   "cell_type": "code",
   "execution_count": 16,
   "metadata": {
    "colab": {
     "base_uri": "https://localhost:8080/",
     "height": 74
    },
    "id": "7pchzS3pNaLz",
    "outputId": "72069a30-dce9-4727-f41f-44d48bc46945"
   },
   "outputs": [],
   "source": [
    "from sklearn.model_selection import GridSearchCV\n",
    "from sklearn.metrics import confusion_matrix, accuracy_score, classification_report\n",
    "\n",
    "# Setting up the logistic regression classifier\n",
    "log_reg = LogisticRegression(max_iter=1000, solver='sag',C=1,penalty='l2',random_state=43)\n",
    "log_reg.fit(X_train, y_train)\n",
    "y_pred = log_reg.predict(X_test)"
   ]
  },
  {
   "cell_type": "markdown",
   "metadata": {
    "id": "188c-0tYsnMB"
   },
   "source": [
    "Model Evaluation"
   ]
  },
  {
   "cell_type": "code",
   "execution_count": 17,
   "metadata": {
    "colab": {
     "base_uri": "https://localhost:8080/"
    },
    "id": "6cyeq4V4set0",
    "outputId": "69c38838-b025-47ad-c49c-1f0b9eb2eb9e"
   },
   "outputs": [
    {
     "name": "stdout",
     "output_type": "stream",
     "text": [
      "              precision    recall  f1-score   support\n",
      "\n",
      "           0       0.75      0.74      0.74      2083\n",
      "           1       0.89      0.89      0.89      4668\n",
      "\n",
      "    accuracy                           0.84      6751\n",
      "   macro avg       0.82      0.82      0.82      6751\n",
      "weighted avg       0.84      0.84      0.84      6751\n",
      "\n"
     ]
    }
   ],
   "source": [
    "print(classification_report(y_test, log_reg.predict(X_test)))\n"
   ]
  },
  {
   "cell_type": "code",
   "execution_count": 18,
   "metadata": {
    "colab": {
     "base_uri": "https://localhost:8080/"
    },
    "id": "hCG69Ja1uLlJ",
    "outputId": "5c355579-f1c3-4a01-97dd-03d283e02cfd"
   },
   "outputs": [
    {
     "data": {
      "text/plain": [
       "0.8426899718560213"
      ]
     },
     "execution_count": 18,
     "metadata": {},
     "output_type": "execute_result"
    }
   ],
   "source": [
    "accuracy = accuracy_score(y_test, y_pred)\n",
    "accuracy"
   ]
  },
  {
   "cell_type": "code",
   "execution_count": 19,
   "metadata": {
    "colab": {
     "base_uri": "https://localhost:8080/"
    },
    "id": "KJafQv_xN3dC",
    "outputId": "1a56d0a4-287c-471f-d125-f01f8cf464df"
   },
   "outputs": [
    {
     "data": {
      "text/plain": [
       "array([[1551,  532],\n",
       "       [ 530, 4138]], dtype=int64)"
      ]
     },
     "execution_count": 19,
     "metadata": {},
     "output_type": "execute_result"
    }
   ],
   "source": [
    "\n",
    "conf_matrix = confusion_matrix(y_test, y_pred)\n",
    "conf_matrix\n",
    "\n"
   ]
  },
  {
   "cell_type": "code",
   "execution_count": 20,
   "metadata": {
    "colab": {
     "base_uri": "https://localhost:8080/",
     "height": 472
    },
    "id": "_lffMGkXsWTH",
    "outputId": "f9533d4a-590c-4761-f277-df0efc9e06d4"
   },
   "outputs": [
    {
     "data": {
      "image/png": "[encoded data removed]",
      "text/plain": [
       "<Figure size 640x480 with 1 Axes>"
      ]
     },
     "metadata": {},
     "output_type": "display_data"
    }
   ],
   "source": [
    "from sklearn.metrics import roc_curve, auc\n",
    "import matplotlib.pyplot as plt\n",
    "\n",
    "# Compute ROC curve and ROC area for each class\n",
    "fpr, tpr, _ = roc_curve(y_test, log_reg.predict_proba(X_test)[:, 1])\n",
    "roc_auc = auc(fpr, tpr)\n",
    "\n",
    "# Plotting ROC curve\n",
    "plt.figure()\n",
    "plt.plot(fpr, tpr, color='darkorange', lw=2, label='ROC curve (area = %0.2f)' % roc_auc)\n",
    "plt.plot([0, 1], [0, 1], color='navy', lw=2, linestyle='--')\n",
    "plt.xlim([0.0, 1.0])\n",
    "plt.ylim([0.0, 1.05])\n",
    "plt.xlabel('False Positive Rate')\n",
    "plt.ylabel('True Positive Rate')\n",
    "plt.title('Receiver Operating Characteristic')\n",
    "plt.legend(loc=\"lower right\")\n",
    "plt.show()\n"
   ]
  },
  {
   "cell_type": "markdown",
   "metadata": {
    "id": "Vcg7tf0ArrA5"
   },
   "source": [
    "Model optimization"
   ]
  },
  {
   "cell_type": "code",
   "execution_count": 21,
   "metadata": {
    "id": "peglyNNXpuSs"
   },
   "outputs": [
    {
     "name": "stdout",
     "output_type": "stream",
     "text": [
      "Fitting 5 folds for each of 24 candidates, totalling 120 fits\n",
      "[CV] END ....................C=0.1, penalty=l1, solver=lbfgs; total time=   0.0s\n",
      "[CV] END ....................C=0.1, penalty=l1, solver=lbfgs; total time=   0.0s\n",
      "[CV] END ....................C=0.1, penalty=l1, solver=lbfgs; total time=   0.0s\n",
      "[CV] END ....................C=0.1, penalty=l1, solver=lbfgs; total time=   0.0s\n",
      "[CV] END ....................C=0.1, penalty=l1, solver=lbfgs; total time=   0.0s\n",
      "[CV] END ................C=0.1, penalty=l1, solver=newton-cg; total time=   0.0s\n",
      "[CV] END ................C=0.1, penalty=l1, solver=newton-cg; total time=   0.0s\n",
      "[CV] END ................C=0.1, penalty=l1, solver=newton-cg; total time=   0.0s\n",
      "[CV] END ................C=0.1, penalty=l1, solver=newton-cg; total time=   0.0s\n",
      "[CV] END ................C=0.1, penalty=l1, solver=newton-cg; total time=   0.0s\n",
      "[CV] END ......................C=0.1, penalty=l1, solver=sag; total time=   0.0s\n",
      "[CV] END ......................C=0.1, penalty=l1, solver=sag; total time=   0.0s\n",
      "[CV] END ......................C=0.1, penalty=l1, solver=sag; total time=   0.0s\n",
      "[CV] END ......................C=0.1, penalty=l1, solver=sag; total time=   0.0s\n",
      "[CV] END ......................C=0.1, penalty=l1, solver=sag; total time=   0.0s\n",
      "[CV] END .....................C=0.1, penalty=l1, solver=saga; total time=   7.6s\n",
      "[CV] END .....................C=0.1, penalty=l1, solver=saga; total time=   7.1s\n",
      "[CV] END .....................C=0.1, penalty=l1, solver=saga; total time=   6.7s\n",
      "[CV] END .....................C=0.1, penalty=l1, solver=saga; total time=   6.6s\n",
      "[CV] END .....................C=0.1, penalty=l1, solver=saga; total time=   3.4s\n",
      "[CV] END ....................C=0.1, penalty=l2, solver=lbfgs; total time=   0.0s\n",
      "[CV] END ....................C=0.1, penalty=l2, solver=lbfgs; total time=   0.0s\n",
      "[CV] END ....................C=0.1, penalty=l2, solver=lbfgs; total time=   0.0s\n",
      "[CV] END ....................C=0.1, penalty=l2, solver=lbfgs; total time=   0.0s\n",
      "[CV] END ....................C=0.1, penalty=l2, solver=lbfgs; total time=   0.0s\n",
      "[CV] END ................C=0.1, penalty=l2, solver=newton-cg; total time=   0.0s\n",
      "[CV] END ................C=0.1, penalty=l2, solver=newton-cg; total time=   0.0s\n",
      "[CV] END ................C=0.1, penalty=l2, solver=newton-cg; total time=   0.0s\n",
      "[CV] END ................C=0.1, penalty=l2, solver=newton-cg; total time=   0.0s\n",
      "[CV] END ................C=0.1, penalty=l2, solver=newton-cg; total time=   0.0s\n",
      "[CV] END ......................C=0.1, penalty=l2, solver=sag; total time=   0.3s\n",
      "[CV] END ......................C=0.1, penalty=l2, solver=sag; total time=   0.3s\n",
      "[CV] END ......................C=0.1, penalty=l2, solver=sag; total time=   0.3s\n",
      "[CV] END ......................C=0.1, penalty=l2, solver=sag; total time=   0.4s\n",
      "[CV] END ......................C=0.1, penalty=l2, solver=sag; total time=   0.1s\n",
      "[CV] END .....................C=0.1, penalty=l2, solver=saga; total time=   0.9s\n",
      "[CV] END .....................C=0.1, penalty=l2, solver=saga; total time=   1.1s\n",
      "[CV] END .....................C=0.1, penalty=l2, solver=saga; total time=   1.1s\n",
      "[CV] END .....................C=0.1, penalty=l2, solver=saga; total time=   1.0s\n",
      "[CV] END .....................C=0.1, penalty=l2, solver=saga; total time=   0.3s\n",
      "[CV] END ......................C=1, penalty=l1, solver=lbfgs; total time=   0.0s\n",
      "[CV] END ......................C=1, penalty=l1, solver=lbfgs; total time=   0.0s\n",
      "[CV] END ......................C=1, penalty=l1, solver=lbfgs; total time=   0.0s\n",
      "[CV] END ......................C=1, penalty=l1, solver=lbfgs; total time=   0.0s\n",
      "[CV] END ......................C=1, penalty=l1, solver=lbfgs; total time=   0.0s\n",
      "[CV] END ..................C=1, penalty=l1, solver=newton-cg; total time=   0.0s\n",
      "[CV] END ..................C=1, penalty=l1, solver=newton-cg; total time=   0.0s\n",
      "[CV] END ..................C=1, penalty=l1, solver=newton-cg; total time=   0.0s\n",
      "[CV] END ..................C=1, penalty=l1, solver=newton-cg; total time=   0.0s\n",
      "[CV] END ..................C=1, penalty=l1, solver=newton-cg; total time=   0.0s\n",
      "[CV] END ........................C=1, penalty=l1, solver=sag; total time=   0.0s\n",
      "[CV] END ........................C=1, penalty=l1, solver=sag; total time=   0.0s\n",
      "[CV] END ........................C=1, penalty=l1, solver=sag; total time=   0.0s\n",
      "[CV] END ........................C=1, penalty=l1, solver=sag; total time=   0.0s\n",
      "[CV] END ........................C=1, penalty=l1, solver=sag; total time=   0.0s\n",
      "[CV] END .......................C=1, penalty=l1, solver=saga; total time=   1.4s\n",
      "[CV] END .......................C=1, penalty=l1, solver=saga; total time=   1.4s\n",
      "[CV] END .......................C=1, penalty=l1, solver=saga; total time=   1.5s\n",
      "[CV] END .......................C=1, penalty=l1, solver=saga; total time=   1.6s\n",
      "[CV] END .......................C=1, penalty=l1, solver=saga; total time=   0.5s\n",
      "[CV] END ......................C=1, penalty=l2, solver=lbfgs; total time=   0.0s\n",
      "[CV] END ......................C=1, penalty=l2, solver=lbfgs; total time=   0.0s\n",
      "[CV] END ......................C=1, penalty=l2, solver=lbfgs; total time=   0.0s\n",
      "[CV] END ......................C=1, penalty=l2, solver=lbfgs; total time=   0.0s\n",
      "[CV] END ......................C=1, penalty=l2, solver=lbfgs; total time=   0.0s\n",
      "[CV] END ..................C=1, penalty=l2, solver=newton-cg; total time=   0.0s\n",
      "[CV] END ..................C=1, penalty=l2, solver=newton-cg; total time=   0.0s\n",
      "[CV] END ..................C=1, penalty=l2, solver=newton-cg; total time=   0.1s\n",
      "[CV] END ..................C=1, penalty=l2, solver=newton-cg; total time=   0.0s\n",
      "[CV] END ..................C=1, penalty=l2, solver=newton-cg; total time=   0.0s\n",
      "[CV] END ........................C=1, penalty=l2, solver=sag; total time=   0.6s\n",
      "[CV] END ........................C=1, penalty=l2, solver=sag; total time=   0.5s\n",
      "[CV] END ........................C=1, penalty=l2, solver=sag; total time=   0.5s\n",
      "[CV] END ........................C=1, penalty=l2, solver=sag; total time=   0.6s\n",
      "[CV] END ........................C=1, penalty=l2, solver=sag; total time=   0.1s\n",
      "[CV] END .......................C=1, penalty=l2, solver=saga; total time=   1.2s\n",
      "[CV] END .......................C=1, penalty=l2, solver=saga; total time=   1.2s\n",
      "[CV] END .......................C=1, penalty=l2, solver=saga; total time=   1.3s\n",
      "[CV] END .......................C=1, penalty=l2, solver=saga; total time=   1.4s\n",
      "[CV] END .......................C=1, penalty=l2, solver=saga; total time=   0.4s\n",
      "[CV] END .....................C=10, penalty=l1, solver=lbfgs; total time=   0.0s\n",
      "[CV] END .....................C=10, penalty=l1, solver=lbfgs; total time=   0.0s\n",
      "[CV] END .....................C=10, penalty=l1, solver=lbfgs; total time=   0.0s\n",
      "[CV] END .....................C=10, penalty=l1, solver=lbfgs; total time=   0.0s\n",
      "[CV] END .....................C=10, penalty=l1, solver=lbfgs; total time=   0.0s\n",
      "[CV] END .................C=10, penalty=l1, solver=newton-cg; total time=   0.0s\n",
      "[CV] END .................C=10, penalty=l1, solver=newton-cg; total time=   0.0s\n",
      "[CV] END .................C=10, penalty=l1, solver=newton-cg; total time=   0.0s\n",
      "[CV] END .................C=10, penalty=l1, solver=newton-cg; total time=   0.0s\n",
      "[CV] END .................C=10, penalty=l1, solver=newton-cg; total time=   0.0s\n",
      "[CV] END .......................C=10, penalty=l1, solver=sag; total time=   0.0s\n",
      "[CV] END .......................C=10, penalty=l1, solver=sag; total time=   0.0s\n",
      "[CV] END .......................C=10, penalty=l1, solver=sag; total time=   0.0s\n",
      "[CV] END .......................C=10, penalty=l1, solver=sag; total time=   0.0s\n",
      "[CV] END .......................C=10, penalty=l1, solver=sag; total time=   0.0s\n",
      "[CV] END ......................C=10, penalty=l1, solver=saga; total time=   0.9s\n",
      "[CV] END ......................C=10, penalty=l1, solver=saga; total time=   1.0s\n",
      "[CV] END ......................C=10, penalty=l1, solver=saga; total time=   1.2s\n",
      "[CV] END ......................C=10, penalty=l1, solver=saga; total time=   1.1s\n",
      "[CV] END ......................C=10, penalty=l1, solver=saga; total time=   0.3s\n",
      "[CV] END .....................C=10, penalty=l2, solver=lbfgs; total time=   0.0s\n",
      "[CV] END .....................C=10, penalty=l2, solver=lbfgs; total time=   0.0s\n",
      "[CV] END .....................C=10, penalty=l2, solver=lbfgs; total time=   0.0s\n",
      "[CV] END .....................C=10, penalty=l2, solver=lbfgs; total time=   0.0s\n",
      "[CV] END .....................C=10, penalty=l2, solver=lbfgs; total time=   0.0s\n",
      "[CV] END .................C=10, penalty=l2, solver=newton-cg; total time=   0.0s\n",
      "[CV] END .................C=10, penalty=l2, solver=newton-cg; total time=   0.0s\n",
      "[CV] END .................C=10, penalty=l2, solver=newton-cg; total time=   0.0s\n",
      "[CV] END .................C=10, penalty=l2, solver=newton-cg; total time=   0.0s\n",
      "[CV] END .................C=10, penalty=l2, solver=newton-cg; total time=   0.0s\n",
      "[CV] END .......................C=10, penalty=l2, solver=sag; total time=   0.4s\n",
      "[CV] END .......................C=10, penalty=l2, solver=sag; total time=   0.6s\n",
      "[CV] END .......................C=10, penalty=l2, solver=sag; total time=   0.5s\n",
      "[CV] END .......................C=10, penalty=l2, solver=sag; total time=   0.4s\n",
      "[CV] END .......................C=10, penalty=l2, solver=sag; total time=   0.0s\n",
      "[CV] END ......................C=10, penalty=l2, solver=saga; total time=   0.8s\n",
      "[CV] END ......................C=10, penalty=l2, solver=saga; total time=   1.0s\n",
      "[CV] END ......................C=10, penalty=l2, solver=saga; total time=   1.0s\n",
      "[CV] END ......................C=10, penalty=l2, solver=saga; total time=   1.2s\n",
      "[CV] END ......................C=10, penalty=l2, solver=saga; total time=   0.3s\n"
     ]
    },
    {
     "data": {
      "text/plain": [
       "({'C': 0.1, 'penalty': 'l2', 'solver': 'saga'}, 0.8456866068734744)"
      ]
     },
     "execution_count": 21,
     "metadata": {},
     "output_type": "execute_result"
    }
   ],
   "source": [
    "# Grid search parameters\n",
    "param_grid = {'solver':['lbfgs','newton-cg','sag','saga'],\n",
    "    'C': [0.1,1,10],\n",
    "    'penalty': ['l1','l2']  # Norm used in the penalization\n",
    "}\n",
    "\n",
    "\n",
    "# Setting up the grid search\n",
    "grid_search = GridSearchCV(estimator=log_reg, param_grid=param_grid, cv=5, verbose=2, scoring='accuracy')\n",
    "\n",
    "# Fitting the grid search to the data\n",
    "grid_search.fit(X_train, y_train)\n",
    "\n",
    "# Best parameters and best score\n",
    "best_params = grid_search.best_params_\n",
    "best_score = grid_search.best_score_\n",
    "best_params, best_score\n"
   ]
  },
  {
   "cell_type": "code",
   "execution_count": 22,
   "metadata": {
    "id": "EiqW8jS0qzjW"
   },
   "outputs": [
    {
     "name": "stdout",
     "output_type": "stream",
     "text": [
      "Validation Accuracy: 0.8429629629629629\n",
      "Test Accuracy: 0.8425418456524959\n"
     ]
    }
   ],
   "source": [
    "best_model = grid_search.best_estimator_\n",
    "validation_accuracy = best_model.score(X_val, y_val)\n",
    "print(\"Validation Accuracy:\", validation_accuracy)\n",
    "test_accuracy = best_model.score(X_test, y_test)\n",
    "print(\"Test Accuracy:\", test_accuracy)"
   ]
  },
  {
   "cell_type": "code",
   "execution_count": 23,
   "metadata": {
    "id": "Yk8fOp0Hq9RR"
   },
   "outputs": [
    {
     "data": {
      "image/png": "[encoded data removed]",
      "text/plain": [
       "<Figure size 640x480 with 1 Axes>"
      ]
     },
     "metadata": {},
     "output_type": "display_data"
    },
    {
     "name": "stdout",
     "output_type": "stream",
     "text": [
      "Confusion Matrix:\n",
      " [[1549  534]\n",
      " [ 529 4139]]\n",
      "Classification Report:\n",
      "               precision    recall  f1-score   support\n",
      "\n",
      "           0       0.75      0.74      0.74      2083\n",
      "           1       0.89      0.89      0.89      4668\n",
      "\n",
      "    accuracy                           0.84      6751\n",
      "   macro avg       0.82      0.82      0.82      6751\n",
      "weighted avg       0.84      0.84      0.84      6751\n",
      "\n"
     ]
    }
   ],
   "source": [
    "# Evaluate the model on test data\n",
    "y_pred = grid_search.predict(X_test)\n",
    "cm = confusion_matrix(y_test, y_pred)\n",
    "\n",
    "sns.heatmap(cm, annot=True, fmt='d', cmap='Blues', cbar=False)\n",
    "plt.title('Confusion Matrix')\n",
    "plt.xlabel('Predicted Label')\n",
    "plt.ylabel('True Label')\n",
    "plt.show()\n",
    "class_report = classification_report(y_test, y_pred)\n",
    "\n",
    "print(\"Confusion Matrix:\\n\", cm)\n",
    "print(\"Classification Report:\\n\", class_report)"
   ]
  },
  {
   "cell_type": "code",
   "execution_count": 24,
   "metadata": {
    "id": "lKP9jfXZo46g"
   },
   "outputs": [
    {
     "data": {
      "text/plain": [
       "(  Booking_ID  number of adults  number of children  number of weekend nights  \\\n",
       " 0   INN00001                 1                   0                         2   \n",
       " 1   INN00002                 1                   0                         1   \n",
       " 2   INN00003                 2                   0                         1   \n",
       " 3   INN00004                 1                   0                         0   \n",
       " 4   INN00005                 1                   0                         1   \n",
       " \n",
       "    number of week nights  type of meal  car parking space    room type  \\\n",
       " 0                      5   Meal Plan 1                  0  Room_Type 1   \n",
       " 1                      3  Not Selected                  0  Room_Type 1   \n",
       " 2                      3   Meal Plan 1                  0  Room_Type 1   \n",
       " 3                      2   Meal Plan 1                  0  Room_Type 1   \n",
       " 4                      2  Not Selected                  0  Room_Type 1   \n",
       " \n",
       "    lead time market segment type  repeated  average price  special requests  \\\n",
       " 0      224.0             Offline         0          88.00                 0   \n",
       " 1        5.0              Online         0         106.68                 1   \n",
       " 2        1.0              Online         0          50.00                 0   \n",
       " 3      211.0              Online         0         100.00                 1   \n",
       " 4       48.0              Online         0          77.00                 0   \n",
       " \n",
       "   date of reservation booking status  \n",
       " 0           10/2/2015   Not_Canceled  \n",
       " 1           11/6/2018   Not_Canceled  \n",
       " 2           2/28/2018       Canceled  \n",
       " 3           5/20/2017       Canceled  \n",
       " 4           4/11/2018       Canceled  ,\n",
       "        number of adults  number of children  number of weekend nights  \\\n",
       " count      36285.000000             36285.0              36285.000000   \n",
       " mean           1.844839                 0.0                  0.810693   \n",
       " std            0.518813                 0.0                  0.870590   \n",
       " min            0.000000                 0.0                  0.000000   \n",
       " 25%            2.000000                 0.0                  0.000000   \n",
       " 50%            2.000000                 0.0                  1.000000   \n",
       " 75%            2.000000                 0.0                  2.000000   \n",
       " max            4.000000                 0.0                  7.000000   \n",
       " \n",
       "        number of week nights  car parking space     lead time      repeated  \\\n",
       " count           36285.000000       36285.000000  36285.000000  36285.000000   \n",
       " mean                2.178145           0.030977     83.767893      0.025630   \n",
       " std                 1.290708           0.173258     81.662186      0.158032   \n",
       " min                 0.000000           0.000000      0.000000      0.000000   \n",
       " 25%                 1.000000           0.000000     17.000000      0.000000   \n",
       " 50%                 2.000000           0.000000     57.000000      0.000000   \n",
       " 75%                 3.000000           0.000000    126.000000      0.000000   \n",
       " max                 6.000000           1.000000    289.500000      1.000000   \n",
       " \n",
       "        average price  special requests  \n",
       " count   36285.000000      36285.000000  \n",
       " mean      102.968399          0.619733  \n",
       " std        31.678904          0.786262  \n",
       " min        20.750000          0.000000  \n",
       " 25%        80.300000          0.000000  \n",
       " 50%        99.450000          0.000000  \n",
       " 75%       120.000000          1.000000  \n",
       " max       179.550000          5.000000  )"
      ]
     },
     "execution_count": 24,
     "metadata": {},
     "output_type": "execute_result"
    }
   ],
   "source": [
    "data.head(), data.describe()\n"
   ]
  },
  {
   "cell_type": "code",
   "execution_count": 25,
   "metadata": {},
   "outputs": [],
   "source": [
    "#Potential Outliers:\n",
    "#Number of Children: The maximum of 10 could be unusual given the mean and standard deviation.\n",
    "#Number of Week Nights: The maximum of 17 nights is quite high compared to the average.\n",
    "#Average Price: $540 might be exceptionally high and should be evaluated in the context of typical prices for this data."
   ]
  },
  {
   "cell_type": "code",
   "execution_count": 26,
   "metadata": {},
   "outputs": [
    {
     "data": {
      "image/png": "[encoded data removed]",
      "text/plain": [
       "<Figure size 1600x1200 with 4 Axes>"
      ]
     },
     "metadata": {},
     "output_type": "display_data"
    }
   ],
   "source": [
    "# Notice: The removal of outliers has been applied to the top front for optimization and the increase of the precision score.\n",
    "# All the optimization will be applied to the final result and be discussed in the report.\n",
    "# The graph had very clear outliers. But it is not show up here because the optimization codes are applied at the begining.\n",
    "\n",
    "sns.set(style=\"whitegrid\")\n",
    "fig, axes = plt.subplots(2, 2, figsize=(16, 12))\n",
    "\n",
    "# Number of children boxplot\n",
    "sns.boxplot(ax=axes[0, 0], data=data, x='number of children', color='skyblue')\n",
    "axes[0, 0].set_title('Boxplot of Number of Children')\n",
    "\n",
    "# Number of week nights boxplot\n",
    "sns.boxplot(ax=axes[0, 1], data=data, x='number of week nights', color='lightgreen')\n",
    "axes[0, 1].set_title('Boxplot of Number of Week Nights')\n",
    "\n",
    "# Lead time boxplot\n",
    "sns.boxplot(ax=axes[1, 0], data=data, x='lead time', color='salmon')\n",
    "axes[1, 0].set_title('Boxplot of Lead Time')\n",
    "\n",
    "# Average price boxplot\n",
    "sns.boxplot(ax=axes[1, 1], data=data, x='average price', color='lightblue')\n",
    "axes[1, 1].set_title('Boxplot of Average Price')\n",
    "\n",
    "plt.tight_layout()\n",
    "plt.show()\n"
   ]
  },
  {
   "cell_type": "code",
   "execution_count": 27,
   "metadata": {},
   "outputs": [],
   "source": [
    "def cap_outliers(series):\n",
    "    Q1 = series.quantile(0.25)\n",
    "    Q3 = series.quantile(0.75)\n",
    "    IQR = Q3 - Q1\n",
    "    lower_bound = Q1 - 1.5 * IQR\n",
    "    upper_bound = Q3 + 1.5 * IQR\n",
    "    return series.clip(lower=lower_bound, upper=upper_bound)\n",
    "\n",
    "# Apply the capping function to the remaining variables\n",
    "data['number of week nights'] = cap_outliers(data['number of week nights'])\n",
    "data['lead time'] = cap_outliers(data['lead time'])\n",
    "data['average price'] = cap_outliers(data['average price'])\n",
    "data['number of children'] = cap_outliers(data['number of children'])\n"
   ]
  },
  {
   "cell_type": "code",
   "execution_count": null,
   "metadata": {},
   "outputs": [],
   "source": []
  }
 ],
 "metadata": {
  "colab": {
   "provenance": []
  },
  "kernelspec": {
   "display_name": "Python 3 (ipykernel)",
   "language": "python",
   "name": "python3"
  },
  "language_info": {
   "codemirror_mode": {
    "name": "ipython",
    "version": 3
   },
   "file_extension": ".py",
   "mimetype": "text/x-python",
   "name": "python",
   "nbconvert_exporter": "python",
   "pygments_lexer": "ipython3",
   "version": "3.11.5"
  }
 },
 "nbformat": 4,
 "nbformat_minor": 1
}
